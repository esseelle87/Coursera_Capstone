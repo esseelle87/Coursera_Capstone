{
 "cells": [
  {
   "cell_type": "markdown",
   "metadata": {},
   "source": [
    "## Geneva house renting consultancy.\n",
    "\n",
    "### Introduction.\n",
    "\n",
    "In this project, we will investigate the trends in the housing rental market of the city of \n",
    "Geneva, Switzerland. Our customers will be newcomers looking for advice on renting an apartment. \n",
    "\n",
    "Switzerland is among the richest countries in the world. According to a 2018 study by the Swiss financial institution UBS <a href=\"https://www.ubs.com/microsites/prices-earnings/en/\" target=\"_top\">on the most expensive cities in the world</a>, Geneva and Zurich, both in Switzerland, ranked as the top two. The high cost of life in these cities is normally compensated by the high average salaries paid by employers. However, optimizing expenses still plays a key role in people’s well-beings because rental costs remains high in Geneva. \n",
    "\n",
    "In fact, rent is typically the single largest cost for most people. That is why optimizing one’s monthly rent is crucial to improving budget management. Optimizing in this context means answering 2 key questions:\n",
    "\n",
    "* Which are the features that influence the price of a house the most?\n",
    "* What factors determine the price difference between properties with nominally identical features?\n",
    "\n",
    "Certainly, there are obvious factors that influence the market value of a residential property directly, e.g. the surface area, or number of rooms. The influence of these kind of features on the rent will be carried out quantitatively. In some cases, two seemingly identical properties could have sensibly different prices. There could be several reasons for this, namely the more expensive property could be surrounded by better services. Or it could simply be in a more prestigious neighborhood. Other reasons could be that the less expensive property has been out of the market for an extended period of the time and avoided the price rise that lead to its current expected price. \n",
    "\n",
    "Answering these questions will help our customers better understand what they are really paying for. Whether it is extra space or better accessibility to certain services, these informations will enable customers to make more educated choices and find the apartments that suits them best. \n",
    "\n",
    "### Data.\n",
    "\n",
    "\n",
    "To carry out our study, the data will be scraped from two main sources:\n",
    "* A popular Swiss rental listing website <a href=\"www.immoscout24.ch\" target=\"_top\">immoscout24.ch.</a>\n",
    "* <a href=\"https://foursquare.com\" target=\"_top\">The foursquare database.</a>\n",
    "\n",
    "\n",
    "A large part of the housing market in Geneva can be found online through rental listing websites, which offers arguably the best visibility on the market. The first part of our project will revolve around collecting all the currently available leases on the <a href=\"www.immoscout24.ch\" target=\"_top\">immoscout24.ch</a> website. A comprehensive set of features can be obtained for each residential property, e.g. rental price, number of rooms, surface area and location. By analyzing these data, we will able to identify the features that influence the rental prices. In addition, we will get insights about prices from the correlation between neighborhoods and prices. \n",
    "\n",
    "Afterwards, we will leverage the foursquare database to get insights on the organization of the city of Geneva and categorize the residential properties according to specific locations found nearby. We do this by first looking at the distribution of services that might be of interest to our customer, such as the public transports, hospitals and schools. This will help us answer questions like: are certain areas more accessible than others? Next, we will categorize properties according to the type and number of nearby venues. This will enable us to answer questions like: are properties closer to the hottest nightlife spots more or less expensive? Or whether accessibility to public transportation is the factor that increase housing prices. This knowledge will enable us to support our customers in finding a place that better suit their tastes. \n"
   ]
  },
  {
   "cell_type": "code",
   "execution_count": null,
   "metadata": {},
   "outputs": [],
   "source": []
  },
  {
   "cell_type": "code",
   "execution_count": null,
   "metadata": {},
   "outputs": [],
   "source": []
  }
 ],
 "metadata": {
  "kernelspec": {
   "display_name": "Python 3",
   "language": "python",
   "name": "python3"
  },
  "language_info": {
   "codemirror_mode": {
    "name": "ipython",
    "version": 3
   },
   "file_extension": ".py",
   "mimetype": "text/x-python",
   "name": "python",
   "nbconvert_exporter": "python",
   "pygments_lexer": "ipython3",
   "version": "3.7.6"
  }
 },
 "nbformat": 4,
 "nbformat_minor": 4
}
